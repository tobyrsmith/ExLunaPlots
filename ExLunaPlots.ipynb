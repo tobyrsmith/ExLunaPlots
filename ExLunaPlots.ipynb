{
 "cells": [
  {
   "cell_type": "code",
   "execution_count": null,
   "metadata": {
    "collapsed": true
   },
   "outputs": [],
   "source": [
    "%matplotlib inline\n",
    "\n",
    "import matplotlib.pyplot as plt\n",
    "import numpy as np"
   ]
  },
  {
   "cell_type": "code",
   "execution_count": null,
   "metadata": {
    "collapsed": false
   },
   "outputs": [],
   "source": [
    "plt.style.available"
   ]
  },
  {
   "cell_type": "code",
   "execution_count": null,
   "metadata": {
    "collapsed": true
   },
   "outputs": [],
   "source": [
    "plt.style.use('ggplot')"
   ]
  },
  {
   "cell_type": "code",
   "execution_count": null,
   "metadata": {
    "collapsed": true
   },
   "outputs": [],
   "source": [
    "def log_10_product(x, pos):\n",
    "    if (x < 1.0):\n",
    "      return '%3.1f' % (x)\n",
    "    else:\n",
    "      return '%i' % (x)"
   ]
  },
  {
   "cell_type": "code",
   "execution_count": null,
   "metadata": {
    "collapsed": true
   },
   "outputs": [],
   "source": [
    "cc = '0.10'\n",
    "\n",
    "font = {'family' : 'DejaVu Serif',\n",
    "        'weight' : 'normal',\n",
    "        'size' : 20,\n",
    "}\n",
    "\n",
    "tfont = {\n",
    "        'family' : 'DejaVu Serif',\n",
    "        'weight' : 'normal',\n",
    "        'size' : 14}\n",
    "\n",
    "sfont = {\n",
    "        'family' : 'DejaVu Serif',\n",
    "        'weight' : 'bold',\n",
    "        'style': 'italic',\n",
    "        'size' : 10}\n",
    "\n",
    "plt.rc('font', **tfont)\n",
    "plt.rc(\"axes\", linewidth=2.0,edgecolor=cc)"
   ]
  },
  {
   "cell_type": "code",
   "execution_count": null,
   "metadata": {
    "collapsed": true
   },
   "outputs": [],
   "source": [
    "c,d = np.loadtxt(\"marecc.dat\",usecols=(0,1), unpack=True)\n",
    "cH,dH = np.loadtxt(\"highcc.dat\",usecols=(0,1), unpack=True)"
   ]
  },
  {
   "cell_type": "code",
   "execution_count": null,
   "metadata": {
    "collapsed": false
   },
   "outputs": [],
   "source": [
    "fig = plt.figure(figsize=(8.5, 11))\n",
    "grid = plt.GridSpec(2, 2, hspace=0.2, wspace=0.2)\n",
    "\n",
    "cc_ax = fig.add_subplot(grid[0, 0:])\n",
    "r_ax = fig.add_subplot(grid[1, 0:], sharex=cc_ax)\n",
    "\n",
    "cc_ax.spines['top'].set_visible(False)\n",
    "cc_ax.spines['right'].set_visible(False)\n",
    "cc_ax.spines['bottom'].set_visible(False)\n",
    "cc_ax.spines['left'].set_visible(False)\n",
    "\n",
    "r_ax.spines['top'].set_visible(False)\n",
    "r_ax.spines['right'].set_visible(False)\n",
    "r_ax.spines['bottom'].set_visible(False)\n",
    "r_ax.spines['left'].set_visible(False)\n",
    "\n",
    "cc_ax.set_yscale('log')\n",
    "cc_ax.set_xscale('log', basex=2)\n",
    "formatter = plt.FuncFormatter(log_10_product)\n",
    "cc_ax.xaxis.set_major_formatter(formatter)\n",
    "\n",
    "# cc_fit\n",
    "\n",
    "xx = np.arange(0.01,1000,0.1)\n",
    "yy = 0.0025 * xx ** -2.0\n",
    "zz = 0.05 * xx ** -2.0\n",
    "\n",
    "cc_ax.plot(xx,yy,marker='None',color='g', linewidth=2, alpha=0.5)\n",
    "cc_ax.plot(xx,zz,marker='None',color='g', linewidth=2, alpha=0.5)\n",
    "\n",
    "cc_ax.plot(d,c,'o',markersize=15,color='r')\n",
    "cc_ax.plot(dH,cH,'o',markersize=15,color='b')\n",
    "\n",
    "cc_ax.set_xlim(1.0,800)\n",
    "cc_ax.set_ylim(5e-8,2e-3)\n",
    "\n",
    "#cc_ax.set_xlabel('Crater Size (km)', fontdict=font)\n",
    "cc_ax.set_ylabel('Num Craters / km$^2$', fontdict=font)\n",
    "\n",
    "# R Plot\n",
    "\n",
    "r_ax.set_yscale('log')\n",
    "r_ax.set_xscale('log', basex=2)\n",
    "\n",
    "r_ax.xaxis.set_major_formatter(formatter)\n",
    "\n",
    "cRm = c / (0.0025 * d ** -2.0)\n",
    "cRh = cH / (0.0025 * dH ** -2.0)\n",
    "\n",
    "r_ax.plot(d,cRm,'o',markersize=15,color='r')\n",
    "r_ax.plot(dH,cRh,'o',markersize=15,color='b')\n",
    "\n",
    "#r_ax.xlim(1.0,800)\n",
    "r_ax.set_ylim(2e-1,9e1)\n",
    "\n",
    "r_ax.set_xlabel('Crater Size (km)', fontdict=font)\n",
    "r_ax.set_ylabel('R', fontdict=font)"
   ]
  },
  {
   "cell_type": "code",
   "execution_count": null,
   "metadata": {
    "collapsed": false
   },
   "outputs": [],
   "source": [
    "fig.savefig('fig1.png', dpi=200, bbox_inches='tight')"
   ]
  },
  {
   "cell_type": "code",
   "execution_count": null,
   "metadata": {
    "collapsed": true
   },
   "outputs": [],
   "source": []
  }
 ],
 "metadata": {
  "anaconda-cloud": {},
  "kernelspec": {
   "display_name": "Python [default]",
   "language": "python",
   "name": "python3"
  },
  "language_info": {
   "codemirror_mode": {
    "name": "ipython",
    "version": 3
   },
   "file_extension": ".py",
   "mimetype": "text/x-python",
   "name": "python",
   "nbconvert_exporter": "python",
   "pygments_lexer": "ipython3",
   "version": "3.5.2"
  }
 },
 "nbformat": 4,
 "nbformat_minor": 1
}
